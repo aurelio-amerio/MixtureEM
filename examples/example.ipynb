{
 "cells": [
  {
   "cell_type": "code",
   "execution_count": 1,
   "metadata": {},
   "outputs": [
    {
     "name": "stderr",
     "output_type": "stream",
     "text": [
      "2024-04-22 21:50:49.654452: W tensorflow/compiler/tf2tensorrt/utils/py_utils.cc:38] TF-TRT Warning: Could not find TensorRT\n"
     ]
    }
   ],
   "source": [
    "import numpy as np\n",
    "import os\n",
    "os.environ['TF_CPP_MIN_LOG_LEVEL'] = '1' # only display errors and warnings\n",
    "os.environ[\"CUDA_VISIBLE_DEVICES\"] = \"-1\"\n",
    "\n",
    "import tensorflow as tf\n",
    "import tensorflow_probability as tfp\n",
    "tfd = tfp.distributions\n",
    "\n",
    "import matplotlib.pyplot as plt\n",
    "\n",
    "import sys\n",
    "sys.path.append('/lhome/ific/a/aamerio/github/MixtureEM/src/MixtureEM')\n",
    "\n",
    "from MixtureEM import MixtureEM"
   ]
  },
  {
   "cell_type": "code",
   "execution_count": 2,
   "metadata": {},
   "outputs": [],
   "source": [
    "seed = 42\n",
    "# set seed for tensorflow\n",
    "tf.random.set_seed(seed)"
   ]
  },
  {
   "cell_type": "code",
   "execution_count": 3,
   "metadata": {},
   "outputs": [
    {
     "name": "stderr",
     "output_type": "stream",
     "text": [
      "2024-04-22 21:50:53.616850: E tensorflow/compiler/xla/stream_executor/cuda/cuda_driver.cc:268] failed call to cuInit: CUDA_ERROR_NO_DEVICE: no CUDA-capable device is detected\n"
     ]
    }
   ],
   "source": [
    "dist1 = tfd.Normal(loc=1., scale=1.)\n",
    "dist2 = tfd.Normal(loc=5., scale=1.)\n",
    "p = [0.4, 0.6]\n",
    "\n",
    "dist = tfp.distributions.Mixture(\n",
    "    cat=tfp.distributions.Categorical(probs=p),\n",
    "    components=[dist1, dist2]\n",
    ")\n",
    "\n",
    "data = dist.sample(1000)"
   ]
  },
  {
   "cell_type": "code",
   "execution_count": 4,
   "metadata": {},
   "outputs": [],
   "source": [
    "mu0 = tf.Variable([0.], dtype=tf.float32, name=\"mu0\")\n",
    "sigma0 = tf.Variable([0.5], dtype=tf.float32, name=\"sigma0\")\n",
    "\n",
    "mu1 = tf.Variable([10.], dtype=tf.float32, name=\"mu1\")\n",
    "sigma1 = tf.Variable([0.5], dtype=tf.float32, name=\"sigma1\")\n",
    "\n",
    "model0 = tfd.Normal(loc=mu0, scale=sigma0)\n",
    "model1 = tfd.Normal(loc=mu1, scale=sigma1)\n",
    "\n",
    "model = MixtureEM(initial_probs=[0.51, 0.49],\n",
    "                  components=[model0, model1])\n"
   ]
  },
  {
   "cell_type": "code",
   "execution_count": 5,
   "metadata": {},
   "outputs": [],
   "source": [
    "optimizer_EM = tf.keras.optimizers.Adam(learning_rate=1e-3)"
   ]
  },
  {
   "cell_type": "code",
   "execution_count": 6,
   "metadata": {},
   "outputs": [
    {
     "name": "stderr",
     "output_type": "stream",
     "text": [
      "  0%|          | 0/100 [00:00<?, ?it/s]"
     ]
    },
    {
     "name": "stderr",
     "output_type": "stream",
     "text": [
      "100%|██████████| 100/100 [00:38<00:00,  2.57it/s, Log Likelihood: -2044.5608]\n"
     ]
    }
   ],
   "source": [
    "model.fit(data, optimizer_EM, algo=\"EM\",opt_steps=100, likelihood_opt_steps=500, lr=1e-3)"
   ]
  },
  {
   "cell_type": "code",
   "execution_count": 7,
   "metadata": {},
   "outputs": [],
   "source": [
    "# optimizer_GD = tf.keras.optimizers.Adam(learning_rate=1e-8)\n",
    "# #%% \n",
    "# model.fit(data, optimizer_GD, algo=\"GD\",max_steps=1000)\n"
   ]
  },
  {
   "cell_type": "code",
   "execution_count": 8,
   "metadata": {},
   "outputs": [
    {
     "name": "stdout",
     "output_type": "stream",
     "text": [
      "mu0:0   [0.8701158]\n",
      "sigma0:0   [0.9715155]\n",
      "mu1:0   [4.9236546]\n",
      "sigma1:0   [1.0782539]\n",
      "probs:  [0.35337815 0.6466221 ]\n"
     ]
    }
   ],
   "source": [
    "for var in model.dist_variables:\n",
    "    print(var.name, \" \",var.numpy())\n",
    "\n",
    "print(\"probs: \", model.probs_parameter.numpy())"
   ]
  },
  {
   "cell_type": "code",
   "execution_count": null,
   "metadata": {},
   "outputs": [],
   "source": []
  }
 ],
 "metadata": {
  "kernelspec": {
   "display_name": "Python 3",
   "language": "python",
   "name": "python3"
  },
  "language_info": {
   "codemirror_mode": {
    "name": "ipython",
    "version": 3
   },
   "file_extension": ".py",
   "mimetype": "text/x-python",
   "name": "python",
   "nbconvert_exporter": "python",
   "pygments_lexer": "ipython3",
   "version": "3.10.13"
  }
 },
 "nbformat": 4,
 "nbformat_minor": 2
}
